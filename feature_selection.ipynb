{
 "cells": [
  {
   "cell_type": "code",
   "execution_count": 263,
   "metadata": {},
   "outputs": [],
   "source": [
    "import pandas as pd\n",
    "import numpy as np\n",
    "from fast_ml.feature_selection import get_constant_features\n",
    "from sklearn.pipeline import Pipeline\n",
    "from sklearn.feature_selection import VarianceThreshold\n",
    "from sklearn.preprocessing import StandardScaler\n",
    "from sklearn.feature_selection import SelectKBest\n",
    "from sklearn.neighbors import KNeighborsClassifier\n",
    "from sklearn.model_selection import GridSearchCV\n",
    "from sklearn.ensemble import RandomForestClassifier\n",
    "from sklearn.decomposition import PCA\n",
    "from boruta import BorutaPy\n",
    "from sklearn.feature_selection import SelectFromModel\n",
    "from sklearn.linear_model import LogisticRegression\n",
    "from sklearn.feature_selection import mutual_info_classif\n",
    "from sklearn.svm import LinearSVC\n",
    "from sklearn.ensemble import GradientBoostingClassifier\n",
    "import os\n",
    "from datetime import datetime\n",
    "from joblib import dump, load\n",
    "import seaborn as sns\n",
    "import matplotlib.pyplot as plt\n",
    "\n",
    "NOW_TIME = datetime.now().strftime(\"%d-%m-%Y_%H-%M-%S\")\n",
    "N_JOBS = -1\n",
    "\n",
    "np.random.seed(42)"
   ]
  },
  {
   "cell_type": "markdown",
   "metadata": {},
   "source": [
    "## Data loading"
   ]
  },
  {
   "cell_type": "code",
   "execution_count": 140,
   "metadata": {},
   "outputs": [],
   "source": [
    "X_train = np.genfromtxt('./data/arcene_train.data', delimiter=' ', dtype=int)\n",
    "y_train = np.genfromtxt('./data/arcene_train.labels', delimiter=' ', dtype=int)\n",
    "\n",
    "X_test = np.genfromtxt('./data/arcene_valid.data', delimiter=' ', dtype=int)\n",
    "y_test = np.genfromtxt('./data/arcene_valid.labels', delimiter=' ', dtype=int)"
   ]
  },
  {
   "cell_type": "markdown",
   "metadata": {},
   "source": [
    "## Explore the data"
   ]
  },
  {
   "cell_type": "code",
   "execution_count": 141,
   "metadata": {},
   "outputs": [
    {
     "data": {
      "text/html": [
       "<div>\n",
       "<style scoped>\n",
       "    .dataframe tbody tr th:only-of-type {\n",
       "        vertical-align: middle;\n",
       "    }\n",
       "\n",
       "    .dataframe tbody tr th {\n",
       "        vertical-align: top;\n",
       "    }\n",
       "\n",
       "    .dataframe thead th {\n",
       "        text-align: right;\n",
       "    }\n",
       "</style>\n",
       "<table border=\"1\" class=\"dataframe\">\n",
       "  <thead>\n",
       "    <tr style=\"text-align: right;\">\n",
       "      <th></th>\n",
       "      <th>Desc</th>\n",
       "      <th>Var</th>\n",
       "      <th>Value</th>\n",
       "      <th>Perc</th>\n",
       "    </tr>\n",
       "  </thead>\n",
       "  <tbody>\n",
       "    <tr>\n",
       "      <th>0</th>\n",
       "      <td>Constant</td>\n",
       "      <td>113</td>\n",
       "      <td>0</td>\n",
       "      <td>100.0</td>\n",
       "    </tr>\n",
       "    <tr>\n",
       "      <th>1</th>\n",
       "      <td>Constant</td>\n",
       "      <td>143</td>\n",
       "      <td>0</td>\n",
       "      <td>100.0</td>\n",
       "    </tr>\n",
       "    <tr>\n",
       "      <th>2</th>\n",
       "      <td>Constant</td>\n",
       "      <td>6995</td>\n",
       "      <td>0</td>\n",
       "      <td>100.0</td>\n",
       "    </tr>\n",
       "    <tr>\n",
       "      <th>3</th>\n",
       "      <td>Constant</td>\n",
       "      <td>6866</td>\n",
       "      <td>0</td>\n",
       "      <td>100.0</td>\n",
       "    </tr>\n",
       "    <tr>\n",
       "      <th>4</th>\n",
       "      <td>Constant</td>\n",
       "      <td>6346</td>\n",
       "      <td>0</td>\n",
       "      <td>100.0</td>\n",
       "    </tr>\n",
       "  </tbody>\n",
       "</table>\n",
       "</div>"
      ],
      "text/plain": [
       "       Desc   Var  Value   Perc\n",
       "0  Constant   113      0  100.0\n",
       "1  Constant   143      0  100.0\n",
       "2  Constant  6995      0  100.0\n",
       "3  Constant  6866      0  100.0\n",
       "4  Constant  6346      0  100.0"
      ]
     },
     "execution_count": 141,
     "metadata": {},
     "output_type": "execute_result"
    }
   ],
   "source": [
    "# dataset has constant features\n",
    "X_train_df = pd.DataFrame(X_train)\n",
    "constant_feats = get_constant_features(X_train_df)\n",
    "constant_feats.head()"
   ]
  },
  {
   "cell_type": "code",
   "execution_count": 142,
   "metadata": {},
   "outputs": [],
   "source": [
    "# no missing values\n",
    "assert(np.all(X_train_df != \"?\"))\n",
    "assert(np.all(X_train_df != np.NaN))\n",
    "assert(np.all(X_train_df != \" \"))\n",
    "assert(np.all(X_train_df != \"\"))"
   ]
  },
  {
   "cell_type": "markdown",
   "metadata": {},
   "source": [
    "## Needed functions"
   ]
  },
  {
   "cell_type": "markdown",
   "metadata": {},
   "source": [
    "Below I attach all funcstions I used to develop my solution. AIn the next section I describe my methodology."
   ]
  },
  {
   "cell_type": "code",
   "execution_count": 143,
   "metadata": {},
   "outputs": [],
   "source": [
    "def tune_model(X_train, y_train, pipe, hyperparams):\n",
    "    rscv = GridSearchCV(pipe, hyperparams, verbose=3, cv = 3)\n",
    "    rscv.fit(X_train, y_train)\n",
    "\n",
    "    return rscv"
   ]
  },
  {
   "cell_type": "code",
   "execution_count": 144,
   "metadata": {},
   "outputs": [],
   "source": [
    "def get_number_of_selected_features(estimator: Pipeline):\n",
    "\n",
    "    step_names = [step[0] for step in estimator.steps]\n",
    "\n",
    "    for step_name in step_names:\n",
    "        if(step_name[-2:] == \"fs\"):\n",
    "            last_feature_selector_name = step_name\n",
    "        if(step_name[-2:] == \"fe\"):\n",
    "            break\n",
    "    last_feature_selector = estimator.steps[step_names.index(last_feature_selector_name)][1]\n",
    "\n",
    "    if last_feature_selector_name == \"boruta_fs\":\n",
    "        return last_feature_selector.n_features_\n",
    "\n",
    "    is_feature_selected =  last_feature_selector.get_support().astype(int)\n",
    "    m = np.sum(is_feature_selected)\n",
    "\n",
    "    return m"
   ]
  },
  {
   "cell_type": "code",
   "execution_count": 145,
   "metadata": {},
   "outputs": [],
   "source": [
    "def get_number_of_classifier_input_features(estimator: Pipeline):\n",
    "\n",
    "    step_names = [step[0] for step in estimator.steps]\n",
    "    last_feature_selorex_name = \\\n",
    "        [step_name for step_name in step_names if ((step_name[-2:] == \"fs\") or (step_name[-2:] == \"fe\"))][-1]\n",
    "    last_feature_selorex = estimator.steps[step_names.index(last_feature_selorex_name)][1]\n",
    "\n",
    "    if last_feature_selorex_name == \"boruta_fs\":\n",
    "        return last_feature_selorex.n_features_\n",
    "    elif last_feature_selorex_name ==\"pca_fe\":\n",
    "        return last_feature_selorex.n_components_\n",
    "\n",
    "    is_feature_selected = last_feature_selorex.get_support().astype(int)\n",
    "    m = np.sum(is_feature_selected)\n",
    "\n",
    "    return m"
   ]
  },
  {
   "cell_type": "code",
   "execution_count": 146,
   "metadata": {},
   "outputs": [],
   "source": [
    "def get_model_name(pipe: Pipeline) -> str:\n",
    "\n",
    "    step_names = [step[0] for step in pipe.steps]\n",
    "    return '-'.join(step_names)"
   ]
  },
  {
   "cell_type": "code",
   "execution_count": 147,
   "metadata": {},
   "outputs": [],
   "source": [
    "def append_results(model: GridSearchCV, test_acc):\n",
    "    if not os.path.exists(\"./resutls\"):\n",
    "        os.makedirs(\"./resutls\")\n",
    "\n",
    "    with open(f\"./resutls/results_{NOW_TIME}.txt\", \"a\") as res_file:\n",
    "        res_file.write(f\"{get_model_name(model.best_estimator_)},{test_acc},{get_number_of_selected_features(model.best_estimator_)},{get_number_of_classifier_input_features(model.best_estimator_)}\\n\")"
   ]
  },
  {
   "cell_type": "code",
   "execution_count": 148,
   "metadata": {},
   "outputs": [],
   "source": [
    "def serialize_model(model: GridSearchCV):\n",
    "    if not os.path.exists(\"./models\"):\n",
    "        os.makedirs(\"./models\")\n",
    "    dump( model, os.path.join(\"./models\", get_model_name(model.best_estimator_)) )"
   ]
  },
  {
   "cell_type": "code",
   "execution_count": 149,
   "metadata": {},
   "outputs": [],
   "source": [
    "def deserialize_model(model_name: str) -> GridSearchCV:\n",
    "    return load( os.path.join(\"./models\", model_name) )"
   ]
  },
  {
   "cell_type": "code",
   "execution_count": 150,
   "metadata": {},
   "outputs": [],
   "source": [
    "def tune_test_save(X_train, y_train, X_test, y_test, pipe: Pipeline, hyperparams):\n",
    "    model = tune_model(X_train, y_train, pipe, hyperparams)\n",
    "    test_acc = (model.predict(X_test) == y_test).mean()\n",
    "    append_results(model, test_acc)\n",
    "    serialize_model(model)\n",
    "    return model"
   ]
  },
  {
   "cell_type": "code",
   "execution_count": 189,
   "metadata": {},
   "outputs": [],
   "source": [
    "def test_all(pipes_hyperparams):\n",
    "    for pipe, hyperparams in pipes_hyperparams:\n",
    "        print (f\"\\n\\n\\t=============== {get_model_name(pipe)} ===============\\n\" )\n",
    "        tune_test_save(X_train, y_train, X_test, y_test, pipe, hyperparams)"
   ]
  },
  {
   "cell_type": "markdown",
   "metadata": {},
   "source": [
    "## Building classification pipelines"
   ]
  },
  {
   "cell_type": "markdown",
   "metadata": {},
   "source": [
    "My aim was to compare different feature selection methods. \n",
    "\n",
    "I tested several feature selection approaches and two classififers: Random Forest and GradientBoosting, as they usually perform quite well and are not very time consuming. Of course, to compare feature selection methods, we should analyze their performances with the same classifier. That is why, I suggest examinig the results for RF and GB separately. Anyway, it is also interesting how different classifiers work with certain feature selection methods (and that is why I decied to test them with two classifiers instead of just one).\n",
    "\n",
    "Below I build model pipelines. Each pipeline consist of various feature selection algorithms. Firstly, I remove constant variabels and scale the data. Then, I applay different feature selection methods and feature extraction (like PCA) as weell. Finallly, I use RF or GB classifiers to classify transformed data. \n",
    "Hyperparameters of all pipes are tuned with the grid search crosss validation.\n",
    "\n",
    "Feature selection methods I use:\n",
    "* no feature selection (reference point)\n",
    "* KBest witth ANOVA tests\n",
    "* KBest with mutual information \n",
    "* PCA (rather feature extraction that selection, but interesting to compare)\n",
    "* Boruta + PCA\n",
    "* Boruta only\n",
    "* Selection based on coefficient of Logistic Regression with L1 regularization\n",
    "* Selection based on coefficient of Logistic Regression with L2 regularization"
   ]
  },
  {
   "cell_type": "code",
   "execution_count": 241,
   "metadata": {},
   "outputs": [],
   "source": [
    "classifier_pipe_step = ('rf', RandomForestClassifier())\n",
    "classifier_hyperparams = {\n",
    "   'rf__n_estimators': [20, 50, 100, 200],\n",
    "   'rf__max_depth': [None, 2, 5, 10] \n",
    "}\n",
    "\n",
    "# classifier_pipe_step = ('gb', GradientBoostingClassifier())\n",
    "# classifier_hyperparams = {\n",
    "#     'gb__n_estimators': [20, 50, 100],\n",
    "#     'gb__learning_rate': [0.01, 0.1, 1],\n",
    "#     'gb__max_depth': [2, 3, 5]\n",
    "# }\n",
    "\n",
    "pipes_hyperparams = [\n",
    "    (\n",
    "        Pipeline\n",
    "        ([\n",
    "            ('variance_trh_fs', VarianceThreshold()),\n",
    "            ('scaller', StandardScaler()),\n",
    "            classifier_pipe_step\n",
    "        ]),\n",
    "        dict\n",
    "        (\n",
    "            { },\n",
    "            **classifier_hyperparams\n",
    "        )\n",
    "    ),\n",
    "    (\n",
    "        Pipeline\n",
    "        ([\n",
    "            ('variance_trh_fs', VarianceThreshold()),\n",
    "            ('scaller', StandardScaler()),\n",
    "            ('kbest_fs', SelectKBest()),\n",
    "            classifier_pipe_step\n",
    "        ]),\n",
    "        dict\n",
    "        (\n",
    "            { \n",
    "                'kbest_fs__k': [10, 15, 30, 100, 300, 3000]\n",
    "            },\n",
    "            **classifier_hyperparams\n",
    "        )\n",
    "    ),\n",
    "    (\n",
    "        Pipeline\n",
    "        ([\n",
    "            ('variance_trh_fs', VarianceThreshold()),\n",
    "            ('scaller', StandardScaler()),\n",
    "            ('kbest_mi_fs', SelectKBest(mutual_info_classif)),\n",
    "            classifier_pipe_step\n",
    "        ]),\n",
    "        dict\n",
    "        (\n",
    "            { \n",
    "                'kbest_mi_fs__k': [10, 15, 30, 100, 300, 3000]\n",
    "            },\n",
    "            **classifier_hyperparams\n",
    "        )\n",
    "    ),\n",
    "    (\n",
    "        Pipeline\n",
    "        ([\n",
    "            ('variance_trh_fs', VarianceThreshold()),\n",
    "            ('scaller', StandardScaler()),\n",
    "            ('pca_fe', PCA()),\n",
    "            classifier_pipe_step\n",
    "        ]),\n",
    "        dict\n",
    "        (\n",
    "            { \n",
    "                'pca_fe__n_components': [0.7, 0.8, 0.9, 0.99]\n",
    "            },\n",
    "            **classifier_hyperparams\n",
    "        )\n",
    "    ),\n",
    "    (\n",
    "        Pipeline\n",
    "        ([\n",
    "            ('variance_trh_fs', VarianceThreshold()),\n",
    "            ('scaller', StandardScaler()),\n",
    "            ('boruta_fs', BorutaPy(RandomForestClassifier(n_estimators=200, n_jobs=N_JOBS, class_weight='balanced', max_depth=6), n_estimators='auto', verbose=2)),\n",
    "            ('pca_fe', PCA()),\n",
    "            classifier_pipe_step\n",
    "        ]),\n",
    "        dict\n",
    "        (\n",
    "            { \n",
    "                'pca_fe__n_components': [0.7, 0.8, 0.9, 0.99]\n",
    "            },\n",
    "            **classifier_hyperparams\n",
    "        )\n",
    "    ),\n",
    "    (\n",
    "        Pipeline\n",
    "        ([\n",
    "            ('variance_trh_fs', VarianceThreshold()),\n",
    "            ('scaller', StandardScaler()),\n",
    "            ('boruta_fs', BorutaPy(RandomForestClassifier(n_estimators=200, n_jobs=N_JOBS, class_weight='balanced', max_depth=6), n_estimators='auto', verbose=2)),\n",
    "            classifier_pipe_step\n",
    "        ]),\n",
    "        dict\n",
    "        (\n",
    "            { },\n",
    "            **classifier_hyperparams\n",
    "        )\n",
    "    ),\n",
    "    (\n",
    "        Pipeline\n",
    "        ([\n",
    "            ('variance_trh_fs', VarianceThreshold()),\n",
    "            ('scaller', StandardScaler()),\n",
    "            ('logregl1_fs', SelectFromModel(None)),\n",
    "            classifier_pipe_step\n",
    "        ]),\n",
    "        dict\n",
    "        (\n",
    "            { \n",
    "                'logregl1_fs__estimator': [\n",
    "                    LogisticRegression(penalty=\"l1\", solver=\"liblinear\", C=0.1),\n",
    "                    LogisticRegression(penalty=\"l1\", solver=\"liblinear\", C=1),\n",
    "                    LogisticRegression(penalty=\"l1\", solver=\"liblinear\", C=3),\n",
    "                    LogisticRegression(penalty=\"l1\", solver=\"liblinear\", C=10)\n",
    "                ],\n",
    "            },\n",
    "            **classifier_hyperparams\n",
    "        )\n",
    "    ),\n",
    "    (\n",
    "        Pipeline\n",
    "        ([\n",
    "            ('variance_trh_fs', VarianceThreshold()),\n",
    "            ('scaller', StandardScaler()),\n",
    "            ('logregl2_fs', SelectFromModel(None)),\n",
    "            classifier_pipe_step\n",
    "        ]),\n",
    "        dict\n",
    "        (\n",
    "            { \n",
    "                'logregl2_fs__estimator': [\n",
    "                    LogisticRegression(penalty=\"l2\", C=0.1),\n",
    "                    LogisticRegression(penalty=\"l2\", C=1),\n",
    "                    LogisticRegression(penalty=\"l2\", C=3),\n",
    "                    LogisticRegression(penalty=\"l2\", C=10)\n",
    "                ],\n",
    "            },\n",
    "            **classifier_hyperparams\n",
    "        )\n",
    "    ),\n",
    "\n",
    "]"
   ]
  },
  {
   "cell_type": "code",
   "execution_count": null,
   "metadata": {},
   "outputs": [],
   "source": [
    "test_all(pipes_hyperparams)"
   ]
  },
  {
   "cell_type": "markdown",
   "metadata": {},
   "source": [
    "## Results analysis"
   ]
  },
  {
   "cell_type": "markdown",
   "metadata": {},
   "source": [
    "In my analysis, I consider accuracy of the pipelines and the number of selected features. Two approaches reagrding the number of selected features can be considered. Firstly, one can focus on taking the least number of features from the input trainning data (the most common case, for example in medicine, where we want the smallest amout of infomration about patients to make decisions, as the medical examinations - features - are usually expensive and time consuming). The second approach could be to define the smallest possible numbner of features as the input for the final classifer (question of performance of the classifier or simpler classification analysis). In the first case, feature extraction methodss, like PCA does not reduce the number of features (they always need all features to define principal components and reduce the data dimension), but in the second case they are helpful. \n",
    "\n",
    "That is why, I consider two feature metrics - Number of features choosen from the initial dataset and Number of features that are the input for the final classifier. In the case I dont use any feature extraction methods, like PCA, the metrics are the same. "
   ]
  },
  {
   "cell_type": "code",
   "execution_count": 279,
   "metadata": {},
   "outputs": [],
   "source": [
    "results = pd.read_csv(\"./resutls/results_17-05-2022_02-27-05.txt\", header=None)\n",
    "results.columns = [\"model\", \"Accuracy on the test set\", \"Number of features choosen from the initial dataset\", \"Number of features that are the input for the final classifier\"]"
   ]
  },
  {
   "cell_type": "code",
   "execution_count": 280,
   "metadata": {},
   "outputs": [
    {
     "data": {
      "text/html": [
       "<div>\n",
       "<style scoped>\n",
       "    .dataframe tbody tr th:only-of-type {\n",
       "        vertical-align: middle;\n",
       "    }\n",
       "\n",
       "    .dataframe tbody tr th {\n",
       "        vertical-align: top;\n",
       "    }\n",
       "\n",
       "    .dataframe thead th {\n",
       "        text-align: right;\n",
       "    }\n",
       "</style>\n",
       "<table border=\"1\" class=\"dataframe\">\n",
       "  <thead>\n",
       "    <tr style=\"text-align: right;\">\n",
       "      <th></th>\n",
       "      <th>model</th>\n",
       "      <th>Accuracy on the test set</th>\n",
       "      <th>Number of features choosen from the initial dataset</th>\n",
       "      <th>Number of features that are the input for the final classifier</th>\n",
       "    </tr>\n",
       "  </thead>\n",
       "  <tbody>\n",
       "    <tr>\n",
       "      <th>5</th>\n",
       "      <td>variance_trh_fs-scaller-kbest_mi_fs-rf</td>\n",
       "      <td>0.79</td>\n",
       "      <td>15</td>\n",
       "      <td>15</td>\n",
       "    </tr>\n",
       "    <tr>\n",
       "      <th>7</th>\n",
       "      <td>variance_trh_fs-scaller-logregl2_fs-rf</td>\n",
       "      <td>0.79</td>\n",
       "      <td>4119</td>\n",
       "      <td>4119</td>\n",
       "    </tr>\n",
       "    <tr>\n",
       "      <th>10</th>\n",
       "      <td>variance_trh_fs-scaller-pca_fe-gb</td>\n",
       "      <td>0.78</td>\n",
       "      <td>9920</td>\n",
       "      <td>24</td>\n",
       "    </tr>\n",
       "    <tr>\n",
       "      <th>6</th>\n",
       "      <td>variance_trh_fs-scaller-logregl1_fs-rf</td>\n",
       "      <td>0.77</td>\n",
       "      <td>145</td>\n",
       "      <td>145</td>\n",
       "    </tr>\n",
       "    <tr>\n",
       "      <th>2</th>\n",
       "      <td>variance_trh_fs-scaller-rf</td>\n",
       "      <td>0.75</td>\n",
       "      <td>9920</td>\n",
       "      <td>9920</td>\n",
       "    </tr>\n",
       "    <tr>\n",
       "      <th>4</th>\n",
       "      <td>variance_trh_fs-scaller-pca_fe-rf</td>\n",
       "      <td>0.75</td>\n",
       "      <td>9920</td>\n",
       "      <td>42</td>\n",
       "    </tr>\n",
       "    <tr>\n",
       "      <th>1</th>\n",
       "      <td>variance_trh_fs-scaller-boruta_fs-rf</td>\n",
       "      <td>0.74</td>\n",
       "      <td>22</td>\n",
       "      <td>22</td>\n",
       "    </tr>\n",
       "    <tr>\n",
       "      <th>3</th>\n",
       "      <td>variance_trh_fs-scaller-kbest_fs-rf</td>\n",
       "      <td>0.72</td>\n",
       "      <td>300</td>\n",
       "      <td>300</td>\n",
       "    </tr>\n",
       "    <tr>\n",
       "      <th>8</th>\n",
       "      <td>variance_trh_fs-scaller-gb</td>\n",
       "      <td>0.71</td>\n",
       "      <td>9920</td>\n",
       "      <td>9920</td>\n",
       "    </tr>\n",
       "    <tr>\n",
       "      <th>12</th>\n",
       "      <td>variance_trh_fs-scaller-logregl2_fs-gb</td>\n",
       "      <td>0.69</td>\n",
       "      <td>4084</td>\n",
       "      <td>4084</td>\n",
       "    </tr>\n",
       "    <tr>\n",
       "      <th>0</th>\n",
       "      <td>variance_trh_fs-scaller-boruta_fs-pca_fe-rf</td>\n",
       "      <td>0.66</td>\n",
       "      <td>16</td>\n",
       "      <td>4</td>\n",
       "    </tr>\n",
       "    <tr>\n",
       "      <th>13</th>\n",
       "      <td>variance_trh_fs-scaller-boruta_fs-gb</td>\n",
       "      <td>0.66</td>\n",
       "      <td>21</td>\n",
       "      <td>21</td>\n",
       "    </tr>\n",
       "    <tr>\n",
       "      <th>9</th>\n",
       "      <td>variance_trh_fs-scaller-kbest_fs-gb</td>\n",
       "      <td>0.63</td>\n",
       "      <td>300</td>\n",
       "      <td>300</td>\n",
       "    </tr>\n",
       "    <tr>\n",
       "      <th>11</th>\n",
       "      <td>variance_trh_fs-scaller-logregl1_fs-gb</td>\n",
       "      <td>0.59</td>\n",
       "      <td>103</td>\n",
       "      <td>103</td>\n",
       "    </tr>\n",
       "  </tbody>\n",
       "</table>\n",
       "</div>"
      ],
      "text/plain": [
       "                                          model  Accuracy on the test set  \\\n",
       "5        variance_trh_fs-scaller-kbest_mi_fs-rf                      0.79   \n",
       "7        variance_trh_fs-scaller-logregl2_fs-rf                      0.79   \n",
       "10            variance_trh_fs-scaller-pca_fe-gb                      0.78   \n",
       "6        variance_trh_fs-scaller-logregl1_fs-rf                      0.77   \n",
       "2                    variance_trh_fs-scaller-rf                      0.75   \n",
       "4             variance_trh_fs-scaller-pca_fe-rf                      0.75   \n",
       "1          variance_trh_fs-scaller-boruta_fs-rf                      0.74   \n",
       "3           variance_trh_fs-scaller-kbest_fs-rf                      0.72   \n",
       "8                    variance_trh_fs-scaller-gb                      0.71   \n",
       "12       variance_trh_fs-scaller-logregl2_fs-gb                      0.69   \n",
       "0   variance_trh_fs-scaller-boruta_fs-pca_fe-rf                      0.66   \n",
       "13         variance_trh_fs-scaller-boruta_fs-gb                      0.66   \n",
       "9           variance_trh_fs-scaller-kbest_fs-gb                      0.63   \n",
       "11       variance_trh_fs-scaller-logregl1_fs-gb                      0.59   \n",
       "\n",
       "    Number of features choosen from the initial dataset  \\\n",
       "5                                                  15     \n",
       "7                                                4119     \n",
       "10                                               9920     \n",
       "6                                                 145     \n",
       "2                                                9920     \n",
       "4                                                9920     \n",
       "1                                                  22     \n",
       "3                                                 300     \n",
       "8                                                9920     \n",
       "12                                               4084     \n",
       "0                                                  16     \n",
       "13                                                 21     \n",
       "9                                                 300     \n",
       "11                                                103     \n",
       "\n",
       "    Number of features that are the input for the final classifier  \n",
       "5                                                  15               \n",
       "7                                                4119               \n",
       "10                                                 24               \n",
       "6                                                 145               \n",
       "2                                                9920               \n",
       "4                                                  42               \n",
       "1                                                  22               \n",
       "3                                                 300               \n",
       "8                                                9920               \n",
       "12                                               4084               \n",
       "0                                                   4               \n",
       "13                                                 21               \n",
       "9                                                 300               \n",
       "11                                                103               "
      ]
     },
     "execution_count": 280,
     "metadata": {},
     "output_type": "execute_result"
    }
   ],
   "source": [
    "results = results.sort_values(by=\"Accuracy on the test set\", ascending=False)\n",
    "results"
   ]
  },
  {
   "cell_type": "code",
   "execution_count": 281,
   "metadata": {},
   "outputs": [
    {
     "data": {
      "text/plain": [
       "Text(0, 0.5, '')"
      ]
     },
     "execution_count": 281,
     "metadata": {},
     "output_type": "execute_result"
    },
    {
     "data": {
      "image/png": "[encoded data removed]",
      "text/plain": [
       "<Figure size 1440x720 with 2 Axes>"
      ]
     },
     "metadata": {
      "needs_background": "light"
     },
     "output_type": "display_data"
    }
   ],
   "source": [
    "fig = plt.figure(figsize=(20, 10))\n",
    "ax = fig.add_subplot(1, 2, 1) \n",
    "\n",
    "sns.barplot(y=\"model\", x=\"Accuracy on the test set\", data=results, ax=ax)\n",
    "ax.set_title(\"Accuracy on th test set\")\n",
    "\n",
    "ax = fig.add_subplot(1, 2, 2) \n",
    "sns.barplot(y=\"model\", x=\"Number of features choosen from the initial dataset\", data=results, ax=ax)\n",
    "ax.set_title(\"Number of features choosen from the initial dataset\")\n",
    "ax.set_yticks([])\n",
    "ax.set_ylabel(None)"
   ]
  },
  {
   "cell_type": "code",
   "execution_count": 283,
   "metadata": {},
   "outputs": [
    {
     "data": {
      "text/plain": [
       "Text(0, 0.5, '')"
      ]
     },
     "execution_count": 283,
     "metadata": {},
     "output_type": "execute_result"
    },
    {
     "data": {
      "image/png": "[encoded data removed]",
      "text/plain": [
       "<Figure size 1440x720 with 2 Axes>"
      ]
     },
     "metadata": {
      "needs_background": "light"
     },
     "output_type": "display_data"
    }
   ],
   "source": [
    "fig = plt.figure(figsize=(20, 10))\n",
    "ax = fig.add_subplot(1, 2, 1) \n",
    "\n",
    "sns.barplot(y=\"model\", x=\"Accuracy on the test set\", data=results, ax=ax)\n",
    "ax.set_title(\"Accuracy on th test set\")\n",
    "\n",
    "ax = fig.add_subplot(1, 2, 2) \n",
    "sns.barplot(y=\"model\", x=\"Number of features that are the input for the final classifier\", data=results, ax=ax)\n",
    "ax.set_title(\"Number of features that are the input for the final classifier\")\n",
    "ax.set_yticks([])\n",
    "ax.set_ylabel(None)"
   ]
  },
  {
   "cell_type": "markdown",
   "metadata": {},
   "source": [
    "Above plot and table shows that the best accuracy was achieved in the case of simple Kbest feture selection based on mutual information with random forest. Surprisingly, the algorithm needed only 15 featues. Also Logisitic regression with L2 norm performed very well, but it needed quite a lot of features. An interesting thing is the compariosn between L1 and L2 regularization logistic regression feature selection. We can see that L1 log reg chooses far less features than L2 and achives similar accuracy. It is an expected result, since L1 regulartization shrinks the coeficients to 0, while L2 makes them small but ususaly not zero. Hence it is easier for L1 reguarlized Logistic regression to reject features. \n",
    "\n",
    "Applying only PCA also works quite well (for both classifiers), but if we consider the Number of features choosen from the initial dataset, it takes all of them. For Number of features that are the input for the final classifier  however the number is really small (almost 10k vs 24  for GB classifier).\n",
    "\n",
    "Netx, we have boruta feature selection which also gives satisfactory results. However, it is very time consuming, since a lot of iterations are needed to slect all important features (and as a result - multiple fitting of the boruta estimator). \n",
    "\n",
    "Lastly, above plots shows that random forest usually worked significantly better than gradient boosting. It can be caused by the fact that Gradient boosting is more demanding to tune its hyperparameters. \n"
   ]
  }
 ],
 "metadata": {
  "interpreter": {
   "hash": "dd3fc331708ce6f7a7348ff5ad2be06f43fa03ce6ee97f9638db7fdc17234a8e"
  },
  "kernelspec": {
   "display_name": "Python 3.9.7 ('dev_proj')",
   "language": "python",
   "name": "python3"
  },
  "language_info": {
   "codemirror_mode": {
    "name": "ipython",
    "version": 3
   },
   "file_extension": ".py",
   "mimetype": "text/x-python",
   "name": "python",
   "nbconvert_exporter": "python",
   "pygments_lexer": "ipython3",
   "version": "3.9.7"
  },
  "orig_nbformat": 4
 },
 "nbformat": 4,
 "nbformat_minor": 2
}
